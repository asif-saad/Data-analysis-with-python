{
 "cells": [
  {
   "cell_type": "code",
   "execution_count": 35,
   "metadata": {},
   "outputs": [],
   "source": [
    "import pandas as pd"
   ]
  },
  {
   "cell_type": "markdown",
   "metadata": {},
   "source": [
    "### importing test_cricket.xlsx file and reading the sheet 'wickets' from there"
   ]
  },
  {
   "cell_type": "code",
   "execution_count": 36,
   "metadata": {},
   "outputs": [],
   "source": [
    "# import the test_cricket.xlsx file in your jupyter notebook. Read the sheet 'wickets' from there\n",
    "\n",
    "data=pd.read_excel('test_cricket.xlsx',sheet_name='wickets')"
   ]
  },
  {
   "cell_type": "markdown",
   "metadata": {},
   "source": [
    "### Display the first 10 rows of the dataframe"
   ]
  },
  {
   "cell_type": "code",
   "execution_count": 37,
   "metadata": {},
   "outputs": [
    {
     "data": {
      "text/html": [
       "<div>\n",
       "<style scoped>\n",
       "    .dataframe tbody tr th:only-of-type {\n",
       "        vertical-align: middle;\n",
       "    }\n",
       "\n",
       "    .dataframe tbody tr th {\n",
       "        vertical-align: top;\n",
       "    }\n",
       "\n",
       "    .dataframe thead th {\n",
       "        text-align: right;\n",
       "    }\n",
       "</style>\n",
       "<table border=\"1\" class=\"dataframe\">\n",
       "  <thead>\n",
       "    <tr style=\"text-align: right;\">\n",
       "      <th></th>\n",
       "      <th>Player</th>\n",
       "      <th>Span</th>\n",
       "      <th>Mat</th>\n",
       "      <th>Inns</th>\n",
       "      <th>Balls</th>\n",
       "      <th>Runs</th>\n",
       "      <th>Wkts</th>\n",
       "      <th>BBI</th>\n",
       "      <th>BBM</th>\n",
       "      <th>Ave</th>\n",
       "      <th>Econ</th>\n",
       "      <th>SR</th>\n",
       "      <th>5</th>\n",
       "      <th>10</th>\n",
       "    </tr>\n",
       "  </thead>\n",
       "  <tbody>\n",
       "    <tr>\n",
       "      <th>0</th>\n",
       "      <td>M Muralitharan (ICC/SL)</td>\n",
       "      <td>1992-2010</td>\n",
       "      <td>133</td>\n",
       "      <td>230</td>\n",
       "      <td>44039</td>\n",
       "      <td>18180</td>\n",
       "      <td>800</td>\n",
       "      <td>1951-09-01 00:00:00</td>\n",
       "      <td>16/220</td>\n",
       "      <td>22.72</td>\n",
       "      <td>2.47</td>\n",
       "      <td>55.0</td>\n",
       "      <td>67</td>\n",
       "      <td>22</td>\n",
       "    </tr>\n",
       "    <tr>\n",
       "      <th>1</th>\n",
       "      <td>SK Warne (AUS)</td>\n",
       "      <td>1992-2007</td>\n",
       "      <td>145</td>\n",
       "      <td>273</td>\n",
       "      <td>40705</td>\n",
       "      <td>17995</td>\n",
       "      <td>708</td>\n",
       "      <td>1971-08-01 00:00:00</td>\n",
       "      <td>12/128</td>\n",
       "      <td>25.41</td>\n",
       "      <td>2.65</td>\n",
       "      <td>57.4</td>\n",
       "      <td>37</td>\n",
       "      <td>10</td>\n",
       "    </tr>\n",
       "    <tr>\n",
       "      <th>2</th>\n",
       "      <td>A Kumble (INDIA)</td>\n",
       "      <td>1990-2008</td>\n",
       "      <td>132</td>\n",
       "      <td>236</td>\n",
       "      <td>40850</td>\n",
       "      <td>18355</td>\n",
       "      <td>619</td>\n",
       "      <td>1974-10-01 00:00:00</td>\n",
       "      <td>14/149</td>\n",
       "      <td>29.65</td>\n",
       "      <td>2.69</td>\n",
       "      <td>65.9</td>\n",
       "      <td>35</td>\n",
       "      <td>8</td>\n",
       "    </tr>\n",
       "    <tr>\n",
       "      <th>3</th>\n",
       "      <td>JM Anderson (ENG)</td>\n",
       "      <td>2003-2021</td>\n",
       "      <td>162</td>\n",
       "      <td>301</td>\n",
       "      <td>34791</td>\n",
       "      <td>16457</td>\n",
       "      <td>617</td>\n",
       "      <td>1942-07-01 00:00:00</td>\n",
       "      <td>1971-11-01 00:00:00</td>\n",
       "      <td>26.67</td>\n",
       "      <td>2.83</td>\n",
       "      <td>56.3</td>\n",
       "      <td>30</td>\n",
       "      <td>3</td>\n",
       "    </tr>\n",
       "    <tr>\n",
       "      <th>4</th>\n",
       "      <td>GD McGrath (AUS)</td>\n",
       "      <td>1993-2007</td>\n",
       "      <td>124</td>\n",
       "      <td>243</td>\n",
       "      <td>29248</td>\n",
       "      <td>12186</td>\n",
       "      <td>563</td>\n",
       "      <td>2021-08-24 00:00:00</td>\n",
       "      <td>2021-10-27 00:00:00</td>\n",
       "      <td>21.64</td>\n",
       "      <td>2.49</td>\n",
       "      <td>51.9</td>\n",
       "      <td>29</td>\n",
       "      <td>3</td>\n",
       "    </tr>\n",
       "    <tr>\n",
       "      <th>5</th>\n",
       "      <td>SCJ Broad (ENG)</td>\n",
       "      <td>2007-2021</td>\n",
       "      <td>148</td>\n",
       "      <td>272</td>\n",
       "      <td>29713</td>\n",
       "      <td>14502</td>\n",
       "      <td>523</td>\n",
       "      <td>2021-08-15 00:00:00</td>\n",
       "      <td>11/121</td>\n",
       "      <td>27.72</td>\n",
       "      <td>2.92</td>\n",
       "      <td>56.8</td>\n",
       "      <td>18</td>\n",
       "      <td>3</td>\n",
       "    </tr>\n",
       "    <tr>\n",
       "      <th>6</th>\n",
       "      <td>CA Walsh (WI)</td>\n",
       "      <td>1984-2001</td>\n",
       "      <td>132</td>\n",
       "      <td>242</td>\n",
       "      <td>30019</td>\n",
       "      <td>12688</td>\n",
       "      <td>519</td>\n",
       "      <td>1937-07-01 00:00:00</td>\n",
       "      <td>13/55</td>\n",
       "      <td>24.44</td>\n",
       "      <td>2.53</td>\n",
       "      <td>57.8</td>\n",
       "      <td>22</td>\n",
       "      <td>3</td>\n",
       "    </tr>\n",
       "    <tr>\n",
       "      <th>7</th>\n",
       "      <td>DW Steyn (SA)</td>\n",
       "      <td>2004-2019</td>\n",
       "      <td>93</td>\n",
       "      <td>171</td>\n",
       "      <td>18608</td>\n",
       "      <td>10077</td>\n",
       "      <td>439</td>\n",
       "      <td>1951-07-01 00:00:00</td>\n",
       "      <td>1960-11-01 00:00:00</td>\n",
       "      <td>22.95</td>\n",
       "      <td>3.24</td>\n",
       "      <td>42.3</td>\n",
       "      <td>26</td>\n",
       "      <td>5</td>\n",
       "    </tr>\n",
       "    <tr>\n",
       "      <th>8</th>\n",
       "      <td>N Kapil Dev (INDIA)</td>\n",
       "      <td>1978-1994</td>\n",
       "      <td>131</td>\n",
       "      <td>227</td>\n",
       "      <td>27740</td>\n",
       "      <td>12867</td>\n",
       "      <td>434</td>\n",
       "      <td>1983-09-01 00:00:00</td>\n",
       "      <td>11/146</td>\n",
       "      <td>29.64</td>\n",
       "      <td>2.78</td>\n",
       "      <td>63.9</td>\n",
       "      <td>23</td>\n",
       "      <td>2</td>\n",
       "    </tr>\n",
       "    <tr>\n",
       "      <th>9</th>\n",
       "      <td>HMRKB Herath (SL)</td>\n",
       "      <td>1999-2018</td>\n",
       "      <td>93</td>\n",
       "      <td>170</td>\n",
       "      <td>25993</td>\n",
       "      <td>12157</td>\n",
       "      <td>433</td>\n",
       "      <td>9/127</td>\n",
       "      <td>14/184</td>\n",
       "      <td>28.07</td>\n",
       "      <td>2.80</td>\n",
       "      <td>60.0</td>\n",
       "      <td>34</td>\n",
       "      <td>9</td>\n",
       "    </tr>\n",
       "  </tbody>\n",
       "</table>\n",
       "</div>"
      ],
      "text/plain": [
       "                    Player       Span  Mat  Inns  Balls   Runs  Wkts  \\\n",
       "0  M Muralitharan (ICC/SL)  1992-2010  133   230  44039  18180   800   \n",
       "1           SK Warne (AUS)  1992-2007  145   273  40705  17995   708   \n",
       "2         A Kumble (INDIA)  1990-2008  132   236  40850  18355   619   \n",
       "3        JM Anderson (ENG)  2003-2021  162   301  34791  16457   617   \n",
       "4         GD McGrath (AUS)  1993-2007  124   243  29248  12186   563   \n",
       "5          SCJ Broad (ENG)  2007-2021  148   272  29713  14502   523   \n",
       "6            CA Walsh (WI)  1984-2001  132   242  30019  12688   519   \n",
       "7            DW Steyn (SA)  2004-2019   93   171  18608  10077   439   \n",
       "8      N Kapil Dev (INDIA)  1978-1994  131   227  27740  12867   434   \n",
       "9        HMRKB Herath (SL)  1999-2018   93   170  25993  12157   433   \n",
       "\n",
       "                   BBI                  BBM    Ave  Econ    SR   5  10  \n",
       "0  1951-09-01 00:00:00               16/220  22.72  2.47  55.0  67  22  \n",
       "1  1971-08-01 00:00:00               12/128  25.41  2.65  57.4  37  10  \n",
       "2  1974-10-01 00:00:00               14/149  29.65  2.69  65.9  35   8  \n",
       "3  1942-07-01 00:00:00  1971-11-01 00:00:00  26.67  2.83  56.3  30   3  \n",
       "4  2021-08-24 00:00:00  2021-10-27 00:00:00  21.64  2.49  51.9  29   3  \n",
       "5  2021-08-15 00:00:00               11/121  27.72  2.92  56.8  18   3  \n",
       "6  1937-07-01 00:00:00                13/55  24.44  2.53  57.8  22   3  \n",
       "7  1951-07-01 00:00:00  1960-11-01 00:00:00  22.95  3.24  42.3  26   5  \n",
       "8  1983-09-01 00:00:00               11/146  29.64  2.78  63.9  23   2  \n",
       "9                9/127               14/184  28.07  2.80  60.0  34   9  "
      ]
     },
     "execution_count": 37,
     "metadata": {},
     "output_type": "execute_result"
    }
   ],
   "source": [
    "# Display the first 10 rows of the dataframe\n",
    "\n",
    "data.head(10)"
   ]
  },
  {
   "cell_type": "markdown",
   "metadata": {},
   "source": [
    "###  Create a markdown cell and explain the meaning of each column\n",
    "\n",
    "\n",
    "- Player= Name of player and the team he played for\n",
    "\n",
    "- Span= The period he played\n",
    "\n",
    "- Mat= Total Matches played\n",
    "\n",
    "- Inns= Number of Innings played\n",
    "\n",
    "- Balls= No of Balls being Bowled\n",
    "\n",
    "- Runs= Total runs scored\n",
    "\n",
    "- Wkts= No of Wickets taken\n",
    "\n",
    "- BBI= Best Bowling in an innings\n",
    "\n",
    "- BBM= Best Bowling in a match\n",
    "\n",
    "- Ave=Average run\n",
    "\n",
    "- Econ= Economy \n",
    "\n",
    "- SR= Strike Rate\n",
    "\n",
    "- 5= No of times 5 wickets being taken\n",
    "\n",
    "- 10= No of times 10 wickets being taken"
   ]
  },
  {
   "cell_type": "markdown",
   "metadata": {},
   "source": [
    "###  find the number of rows and columns in the dataframe"
   ]
  },
  {
   "cell_type": "code",
   "execution_count": 38,
   "metadata": {},
   "outputs": [
    {
     "name": "stdout",
     "output_type": "stream",
     "text": [
      "number of rows 79\n",
      "number of columns 14\n"
     ]
    }
   ],
   "source": [
    "# find the number of rows and columns in the dataframe\n",
    "\n",
    "print(\"number of rows\",data.shape[0])\n",
    "print(\"number of columns\",data.shape[1])"
   ]
  },
  {
   "cell_type": "markdown",
   "metadata": {},
   "source": [
    "###  find the data statistics and check for the data types"
   ]
  },
  {
   "cell_type": "code",
   "execution_count": 39,
   "metadata": {},
   "outputs": [
    {
     "data": {
      "text/plain": [
       "Player     object\n",
       "Span       object\n",
       "Mat         int64\n",
       "Inns        int64\n",
       "Balls       int64\n",
       "Runs        int64\n",
       "Wkts        int64\n",
       "BBI        object\n",
       "BBM        object\n",
       "Ave       float64\n",
       "Econ      float64\n",
       "SR        float64\n",
       "5           int64\n",
       "10          int64\n",
       "dtype: object"
      ]
     },
     "execution_count": 39,
     "metadata": {},
     "output_type": "execute_result"
    }
   ],
   "source": [
    "# find the data statistics and check for the data types\n",
    "data.dtypes"
   ]
  },
  {
   "cell_type": "code",
   "execution_count": 40,
   "metadata": {},
   "outputs": [
    {
     "data": {
      "text/html": [
       "<div>\n",
       "<style scoped>\n",
       "    .dataframe tbody tr th:only-of-type {\n",
       "        vertical-align: middle;\n",
       "    }\n",
       "\n",
       "    .dataframe tbody tr th {\n",
       "        vertical-align: top;\n",
       "    }\n",
       "\n",
       "    .dataframe thead th {\n",
       "        text-align: right;\n",
       "    }\n",
       "</style>\n",
       "<table border=\"1\" class=\"dataframe\">\n",
       "  <thead>\n",
       "    <tr style=\"text-align: right;\">\n",
       "      <th></th>\n",
       "      <th>Mat</th>\n",
       "      <th>Inns</th>\n",
       "      <th>Balls</th>\n",
       "      <th>Runs</th>\n",
       "      <th>Wkts</th>\n",
       "      <th>Ave</th>\n",
       "      <th>Econ</th>\n",
       "      <th>SR</th>\n",
       "      <th>5</th>\n",
       "      <th>10</th>\n",
       "    </tr>\n",
       "  </thead>\n",
       "  <tbody>\n",
       "    <tr>\n",
       "      <th>count</th>\n",
       "      <td>79.000000</td>\n",
       "      <td>79.000000</td>\n",
       "      <td>79.000000</td>\n",
       "      <td>79.000000</td>\n",
       "      <td>79.000000</td>\n",
       "      <td>79.000000</td>\n",
       "      <td>79.000000</td>\n",
       "      <td>79.000000</td>\n",
       "      <td>79.000000</td>\n",
       "      <td>79.000000</td>\n",
       "    </tr>\n",
       "    <tr>\n",
       "      <th>mean</th>\n",
       "      <td>80.101266</td>\n",
       "      <td>144.797468</td>\n",
       "      <td>18630.303797</td>\n",
       "      <td>8595.506329</td>\n",
       "      <td>317.101266</td>\n",
       "      <td>27.466456</td>\n",
       "      <td>2.806582</td>\n",
       "      <td>59.187342</td>\n",
       "      <td>16.354430</td>\n",
       "      <td>2.797468</td>\n",
       "    </tr>\n",
       "    <tr>\n",
       "      <th>std</th>\n",
       "      <td>28.537692</td>\n",
       "      <td>51.042310</td>\n",
       "      <td>7190.036515</td>\n",
       "      <td>3080.256645</td>\n",
       "      <td>121.731587</td>\n",
       "      <td>3.657561</td>\n",
       "      <td>0.351666</td>\n",
       "      <td>9.349337</td>\n",
       "      <td>9.642372</td>\n",
       "      <td>3.235935</td>\n",
       "    </tr>\n",
       "    <tr>\n",
       "      <th>min</th>\n",
       "      <td>37.000000</td>\n",
       "      <td>67.000000</td>\n",
       "      <td>8785.000000</td>\n",
       "      <td>4846.000000</td>\n",
       "      <td>200.000000</td>\n",
       "      <td>20.940000</td>\n",
       "      <td>1.980000</td>\n",
       "      <td>41.200000</td>\n",
       "      <td>3.000000</td>\n",
       "      <td>0.000000</td>\n",
       "    </tr>\n",
       "    <tr>\n",
       "      <th>25%</th>\n",
       "      <td>60.500000</td>\n",
       "      <td>110.000000</td>\n",
       "      <td>13580.000000</td>\n",
       "      <td>6456.500000</td>\n",
       "      <td>229.000000</td>\n",
       "      <td>24.425000</td>\n",
       "      <td>2.600000</td>\n",
       "      <td>53.300000</td>\n",
       "      <td>9.500000</td>\n",
       "      <td>1.000000</td>\n",
       "    </tr>\n",
       "    <tr>\n",
       "      <th>50%</th>\n",
       "      <td>71.000000</td>\n",
       "      <td>129.000000</td>\n",
       "      <td>16498.000000</td>\n",
       "      <td>7742.000000</td>\n",
       "      <td>266.000000</td>\n",
       "      <td>28.000000</td>\n",
       "      <td>2.820000</td>\n",
       "      <td>57.400000</td>\n",
       "      <td>14.000000</td>\n",
       "      <td>2.000000</td>\n",
       "    </tr>\n",
       "    <tr>\n",
       "      <th>75%</th>\n",
       "      <td>93.000000</td>\n",
       "      <td>169.000000</td>\n",
       "      <td>21742.500000</td>\n",
       "      <td>9756.000000</td>\n",
       "      <td>374.500000</td>\n",
       "      <td>29.870000</td>\n",
       "      <td>3.080000</td>\n",
       "      <td>63.950000</td>\n",
       "      <td>20.500000</td>\n",
       "      <td>3.500000</td>\n",
       "    </tr>\n",
       "    <tr>\n",
       "      <th>max</th>\n",
       "      <td>166.000000</td>\n",
       "      <td>301.000000</td>\n",
       "      <td>44039.000000</td>\n",
       "      <td>18355.000000</td>\n",
       "      <td>800.000000</td>\n",
       "      <td>34.790000</td>\n",
       "      <td>3.460000</td>\n",
       "      <td>91.900000</td>\n",
       "      <td>67.000000</td>\n",
       "      <td>22.000000</td>\n",
       "    </tr>\n",
       "  </tbody>\n",
       "</table>\n",
       "</div>"
      ],
      "text/plain": [
       "              Mat        Inns         Balls          Runs        Wkts  \\\n",
       "count   79.000000   79.000000     79.000000     79.000000   79.000000   \n",
       "mean    80.101266  144.797468  18630.303797   8595.506329  317.101266   \n",
       "std     28.537692   51.042310   7190.036515   3080.256645  121.731587   \n",
       "min     37.000000   67.000000   8785.000000   4846.000000  200.000000   \n",
       "25%     60.500000  110.000000  13580.000000   6456.500000  229.000000   \n",
       "50%     71.000000  129.000000  16498.000000   7742.000000  266.000000   \n",
       "75%     93.000000  169.000000  21742.500000   9756.000000  374.500000   \n",
       "max    166.000000  301.000000  44039.000000  18355.000000  800.000000   \n",
       "\n",
       "             Ave       Econ         SR          5         10  \n",
       "count  79.000000  79.000000  79.000000  79.000000  79.000000  \n",
       "mean   27.466456   2.806582  59.187342  16.354430   2.797468  \n",
       "std     3.657561   0.351666   9.349337   9.642372   3.235935  \n",
       "min    20.940000   1.980000  41.200000   3.000000   0.000000  \n",
       "25%    24.425000   2.600000  53.300000   9.500000   1.000000  \n",
       "50%    28.000000   2.820000  57.400000  14.000000   2.000000  \n",
       "75%    29.870000   3.080000  63.950000  20.500000   3.500000  \n",
       "max    34.790000   3.460000  91.900000  67.000000  22.000000  "
      ]
     },
     "execution_count": 40,
     "metadata": {},
     "output_type": "execute_result"
    }
   ],
   "source": [
    "data.describe()"
   ]
  },
  {
   "cell_type": "markdown",
   "metadata": {},
   "source": [
    "###  Are there any missing values present in the dataset?"
   ]
  },
  {
   "cell_type": "code",
   "execution_count": 41,
   "metadata": {},
   "outputs": [
    {
     "data": {
      "text/plain": [
       "Player    0\n",
       "Span      0\n",
       "Mat       0\n",
       "Inns      0\n",
       "Balls     0\n",
       "Runs      0\n",
       "Wkts      0\n",
       "BBI       0\n",
       "BBM       0\n",
       "Ave       0\n",
       "Econ      0\n",
       "SR        0\n",
       "5         0\n",
       "10        0\n",
       "dtype: int64"
      ]
     },
     "execution_count": 41,
     "metadata": {},
     "output_type": "execute_result"
    }
   ],
   "source": [
    "# Are there any missing values present in the dataset?\n",
    "data.isna().sum()"
   ]
  },
  {
   "cell_type": "markdown",
   "metadata": {},
   "source": [
    "###  Rename the column names appropriately"
   ]
  },
  {
   "cell_type": "code",
   "execution_count": 42,
   "metadata": {},
   "outputs": [],
   "source": [
    "# Rename the column names appropriately\n",
    "\n",
    "data.rename(columns={'Player':'PlayerName','Span':'Career_Period','Mat':'Matches','Inns':'Innings','Wkts':\n",
    "                    'Wickets','BBI':'Best_Bowling_in_an_innings','BBM':'Best_Bowl_in_a_match','Ave':'Average',\n",
    "                    'Econ':'Economy','SR':'Strike_Rate',5:'no_of_5_wickets',10:'no_of_10_wickets'}\n",
    "           ,inplace=True)"
   ]
  },
  {
   "cell_type": "markdown",
   "metadata": {},
   "source": [
    "###  Remove a column from the dataframe"
   ]
  },
  {
   "cell_type": "code",
   "execution_count": 43,
   "metadata": {},
   "outputs": [
    {
     "data": {
      "text/html": [
       "<div>\n",
       "<style scoped>\n",
       "    .dataframe tbody tr th:only-of-type {\n",
       "        vertical-align: middle;\n",
       "    }\n",
       "\n",
       "    .dataframe tbody tr th {\n",
       "        vertical-align: top;\n",
       "    }\n",
       "\n",
       "    .dataframe thead th {\n",
       "        text-align: right;\n",
       "    }\n",
       "</style>\n",
       "<table border=\"1\" class=\"dataframe\">\n",
       "  <thead>\n",
       "    <tr style=\"text-align: right;\">\n",
       "      <th></th>\n",
       "      <th>Career_Period</th>\n",
       "      <th>Matches</th>\n",
       "      <th>Innings</th>\n",
       "      <th>Balls</th>\n",
       "      <th>Runs</th>\n",
       "      <th>Wickets</th>\n",
       "      <th>Best_Bowling_in_an_innings</th>\n",
       "      <th>Best_Bowl_in_a_match</th>\n",
       "      <th>Average</th>\n",
       "      <th>Economy</th>\n",
       "      <th>Strike_Rate</th>\n",
       "      <th>no_of_5_wickets</th>\n",
       "      <th>no_of_10_wickets</th>\n",
       "    </tr>\n",
       "  </thead>\n",
       "  <tbody>\n",
       "    <tr>\n",
       "      <th>0</th>\n",
       "      <td>1992-2010</td>\n",
       "      <td>133</td>\n",
       "      <td>230</td>\n",
       "      <td>44039</td>\n",
       "      <td>18180</td>\n",
       "      <td>800</td>\n",
       "      <td>1951-09-01 00:00:00</td>\n",
       "      <td>16/220</td>\n",
       "      <td>22.72</td>\n",
       "      <td>2.47</td>\n",
       "      <td>55.0</td>\n",
       "      <td>67</td>\n",
       "      <td>22</td>\n",
       "    </tr>\n",
       "    <tr>\n",
       "      <th>1</th>\n",
       "      <td>1992-2007</td>\n",
       "      <td>145</td>\n",
       "      <td>273</td>\n",
       "      <td>40705</td>\n",
       "      <td>17995</td>\n",
       "      <td>708</td>\n",
       "      <td>1971-08-01 00:00:00</td>\n",
       "      <td>12/128</td>\n",
       "      <td>25.41</td>\n",
       "      <td>2.65</td>\n",
       "      <td>57.4</td>\n",
       "      <td>37</td>\n",
       "      <td>10</td>\n",
       "    </tr>\n",
       "    <tr>\n",
       "      <th>2</th>\n",
       "      <td>1990-2008</td>\n",
       "      <td>132</td>\n",
       "      <td>236</td>\n",
       "      <td>40850</td>\n",
       "      <td>18355</td>\n",
       "      <td>619</td>\n",
       "      <td>1974-10-01 00:00:00</td>\n",
       "      <td>14/149</td>\n",
       "      <td>29.65</td>\n",
       "      <td>2.69</td>\n",
       "      <td>65.9</td>\n",
       "      <td>35</td>\n",
       "      <td>8</td>\n",
       "    </tr>\n",
       "    <tr>\n",
       "      <th>3</th>\n",
       "      <td>2003-2021</td>\n",
       "      <td>162</td>\n",
       "      <td>301</td>\n",
       "      <td>34791</td>\n",
       "      <td>16457</td>\n",
       "      <td>617</td>\n",
       "      <td>1942-07-01 00:00:00</td>\n",
       "      <td>1971-11-01 00:00:00</td>\n",
       "      <td>26.67</td>\n",
       "      <td>2.83</td>\n",
       "      <td>56.3</td>\n",
       "      <td>30</td>\n",
       "      <td>3</td>\n",
       "    </tr>\n",
       "    <tr>\n",
       "      <th>4</th>\n",
       "      <td>1993-2007</td>\n",
       "      <td>124</td>\n",
       "      <td>243</td>\n",
       "      <td>29248</td>\n",
       "      <td>12186</td>\n",
       "      <td>563</td>\n",
       "      <td>2021-08-24 00:00:00</td>\n",
       "      <td>2021-10-27 00:00:00</td>\n",
       "      <td>21.64</td>\n",
       "      <td>2.49</td>\n",
       "      <td>51.9</td>\n",
       "      <td>29</td>\n",
       "      <td>3</td>\n",
       "    </tr>\n",
       "    <tr>\n",
       "      <th>...</th>\n",
       "      <td>...</td>\n",
       "      <td>...</td>\n",
       "      <td>...</td>\n",
       "      <td>...</td>\n",
       "      <td>...</td>\n",
       "      <td>...</td>\n",
       "      <td>...</td>\n",
       "      <td>...</td>\n",
       "      <td>...</td>\n",
       "      <td>...</td>\n",
       "      <td>...</td>\n",
       "      <td>...</td>\n",
       "      <td>...</td>\n",
       "    </tr>\n",
       "    <tr>\n",
       "      <th>74</th>\n",
       "      <td>1998-2008</td>\n",
       "      <td>44</td>\n",
       "      <td>85</td>\n",
       "      <td>11237</td>\n",
       "      <td>6038</td>\n",
       "      <td>208</td>\n",
       "      <td>8/108</td>\n",
       "      <td>12/107</td>\n",
       "      <td>29.02</td>\n",
       "      <td>3.22</td>\n",
       "      <td>54.0</td>\n",
       "      <td>12</td>\n",
       "      <td>2</td>\n",
       "    </tr>\n",
       "    <tr>\n",
       "      <th>75</th>\n",
       "      <td>1995-2004</td>\n",
       "      <td>49</td>\n",
       "      <td>86</td>\n",
       "      <td>14070</td>\n",
       "      <td>6206</td>\n",
       "      <td>208</td>\n",
       "      <td>8/164</td>\n",
       "      <td>10/155</td>\n",
       "      <td>29.83</td>\n",
       "      <td>2.64</td>\n",
       "      <td>67.6</td>\n",
       "      <td>13</td>\n",
       "      <td>3</td>\n",
       "    </tr>\n",
       "    <tr>\n",
       "      <th>76</th>\n",
       "      <td>1974-1983</td>\n",
       "      <td>47</td>\n",
       "      <td>90</td>\n",
       "      <td>11135</td>\n",
       "      <td>5174</td>\n",
       "      <td>202</td>\n",
       "      <td>1954-07-01 00:00:00</td>\n",
       "      <td>12/121</td>\n",
       "      <td>25.61</td>\n",
       "      <td>2.78</td>\n",
       "      <td>55.1</td>\n",
       "      <td>11</td>\n",
       "      <td>2</td>\n",
       "    </tr>\n",
       "    <tr>\n",
       "      <th>77</th>\n",
       "      <td>1965-1976</td>\n",
       "      <td>49</td>\n",
       "      <td>93</td>\n",
       "      <td>12021</td>\n",
       "      <td>5387</td>\n",
       "      <td>202</td>\n",
       "      <td>1940-07-01 00:00:00</td>\n",
       "      <td>10/142</td>\n",
       "      <td>26.66</td>\n",
       "      <td>2.68</td>\n",
       "      <td>59.5</td>\n",
       "      <td>8</td>\n",
       "      <td>1</td>\n",
       "    </tr>\n",
       "    <tr>\n",
       "      <th>78</th>\n",
       "      <td>1972-1985</td>\n",
       "      <td>51</td>\n",
       "      <td>90</td>\n",
       "      <td>10535</td>\n",
       "      <td>5601</td>\n",
       "      <td>200</td>\n",
       "      <td>1946-06-01 00:00:00</td>\n",
       "      <td>9/105</td>\n",
       "      <td>28.00</td>\n",
       "      <td>3.18</td>\n",
       "      <td>52.6</td>\n",
       "      <td>8</td>\n",
       "      <td>0</td>\n",
       "    </tr>\n",
       "  </tbody>\n",
       "</table>\n",
       "<p>79 rows × 13 columns</p>\n",
       "</div>"
      ],
      "text/plain": [
       "   Career_Period  Matches  Innings  Balls   Runs  Wickets  \\\n",
       "0      1992-2010      133      230  44039  18180      800   \n",
       "1      1992-2007      145      273  40705  17995      708   \n",
       "2      1990-2008      132      236  40850  18355      619   \n",
       "3      2003-2021      162      301  34791  16457      617   \n",
       "4      1993-2007      124      243  29248  12186      563   \n",
       "..           ...      ...      ...    ...    ...      ...   \n",
       "74     1998-2008       44       85  11237   6038      208   \n",
       "75     1995-2004       49       86  14070   6206      208   \n",
       "76     1974-1983       47       90  11135   5174      202   \n",
       "77     1965-1976       49       93  12021   5387      202   \n",
       "78     1972-1985       51       90  10535   5601      200   \n",
       "\n",
       "   Best_Bowling_in_an_innings Best_Bowl_in_a_match  Average  Economy  \\\n",
       "0         1951-09-01 00:00:00               16/220    22.72     2.47   \n",
       "1         1971-08-01 00:00:00               12/128    25.41     2.65   \n",
       "2         1974-10-01 00:00:00               14/149    29.65     2.69   \n",
       "3         1942-07-01 00:00:00  1971-11-01 00:00:00    26.67     2.83   \n",
       "4         2021-08-24 00:00:00  2021-10-27 00:00:00    21.64     2.49   \n",
       "..                        ...                  ...      ...      ...   \n",
       "74                      8/108               12/107    29.02     3.22   \n",
       "75                      8/164               10/155    29.83     2.64   \n",
       "76        1954-07-01 00:00:00               12/121    25.61     2.78   \n",
       "77        1940-07-01 00:00:00               10/142    26.66     2.68   \n",
       "78        1946-06-01 00:00:00                9/105    28.00     3.18   \n",
       "\n",
       "    Strike_Rate  no_of_5_wickets  no_of_10_wickets  \n",
       "0          55.0               67                22  \n",
       "1          57.4               37                10  \n",
       "2          65.9               35                 8  \n",
       "3          56.3               30                 3  \n",
       "4          51.9               29                 3  \n",
       "..          ...              ...               ...  \n",
       "74         54.0               12                 2  \n",
       "75         67.6               13                 3  \n",
       "76         55.1               11                 2  \n",
       "77         59.5                8                 1  \n",
       "78         52.6                8                 0  \n",
       "\n",
       "[79 rows x 13 columns]"
      ]
     },
     "execution_count": 43,
     "metadata": {},
     "output_type": "execute_result"
    }
   ],
   "source": [
    "# Remove a column from the dataframe\n",
    "data.drop(['PlayerName'],axis=1)"
   ]
  },
  {
   "cell_type": "code",
   "execution_count": null,
   "metadata": {},
   "outputs": [],
   "source": []
  },
  {
   "cell_type": "code",
   "execution_count": 44,
   "metadata": {},
   "outputs": [
    {
     "data": {
      "text/html": [
       "<div>\n",
       "<style scoped>\n",
       "    .dataframe tbody tr th:only-of-type {\n",
       "        vertical-align: middle;\n",
       "    }\n",
       "\n",
       "    .dataframe tbody tr th {\n",
       "        vertical-align: top;\n",
       "    }\n",
       "\n",
       "    .dataframe thead th {\n",
       "        text-align: right;\n",
       "    }\n",
       "</style>\n",
       "<table border=\"1\" class=\"dataframe\">\n",
       "  <thead>\n",
       "    <tr style=\"text-align: right;\">\n",
       "      <th></th>\n",
       "      <th>PlayerName</th>\n",
       "      <th>Career_Period</th>\n",
       "      <th>Matches</th>\n",
       "      <th>Innings</th>\n",
       "      <th>Balls</th>\n",
       "      <th>Runs</th>\n",
       "      <th>Wickets</th>\n",
       "      <th>Average</th>\n",
       "      <th>Economy</th>\n",
       "      <th>Strike_Rate</th>\n",
       "      <th>no_of_5_wickets</th>\n",
       "      <th>no_of_10_wickets</th>\n",
       "    </tr>\n",
       "  </thead>\n",
       "  <tbody>\n",
       "    <tr>\n",
       "      <th>0</th>\n",
       "      <td>M Muralitharan (ICC/SL)</td>\n",
       "      <td>1992-2010</td>\n",
       "      <td>133</td>\n",
       "      <td>230</td>\n",
       "      <td>44039</td>\n",
       "      <td>18180</td>\n",
       "      <td>800</td>\n",
       "      <td>22.72</td>\n",
       "      <td>2.47</td>\n",
       "      <td>55.0</td>\n",
       "      <td>67</td>\n",
       "      <td>22</td>\n",
       "    </tr>\n",
       "    <tr>\n",
       "      <th>1</th>\n",
       "      <td>SK Warne (AUS)</td>\n",
       "      <td>1992-2007</td>\n",
       "      <td>145</td>\n",
       "      <td>273</td>\n",
       "      <td>40705</td>\n",
       "      <td>17995</td>\n",
       "      <td>708</td>\n",
       "      <td>25.41</td>\n",
       "      <td>2.65</td>\n",
       "      <td>57.4</td>\n",
       "      <td>37</td>\n",
       "      <td>10</td>\n",
       "    </tr>\n",
       "    <tr>\n",
       "      <th>2</th>\n",
       "      <td>A Kumble (INDIA)</td>\n",
       "      <td>1990-2008</td>\n",
       "      <td>132</td>\n",
       "      <td>236</td>\n",
       "      <td>40850</td>\n",
       "      <td>18355</td>\n",
       "      <td>619</td>\n",
       "      <td>29.65</td>\n",
       "      <td>2.69</td>\n",
       "      <td>65.9</td>\n",
       "      <td>35</td>\n",
       "      <td>8</td>\n",
       "    </tr>\n",
       "    <tr>\n",
       "      <th>3</th>\n",
       "      <td>JM Anderson (ENG)</td>\n",
       "      <td>2003-2021</td>\n",
       "      <td>162</td>\n",
       "      <td>301</td>\n",
       "      <td>34791</td>\n",
       "      <td>16457</td>\n",
       "      <td>617</td>\n",
       "      <td>26.67</td>\n",
       "      <td>2.83</td>\n",
       "      <td>56.3</td>\n",
       "      <td>30</td>\n",
       "      <td>3</td>\n",
       "    </tr>\n",
       "    <tr>\n",
       "      <th>4</th>\n",
       "      <td>GD McGrath (AUS)</td>\n",
       "      <td>1993-2007</td>\n",
       "      <td>124</td>\n",
       "      <td>243</td>\n",
       "      <td>29248</td>\n",
       "      <td>12186</td>\n",
       "      <td>563</td>\n",
       "      <td>21.64</td>\n",
       "      <td>2.49</td>\n",
       "      <td>51.9</td>\n",
       "      <td>29</td>\n",
       "      <td>3</td>\n",
       "    </tr>\n",
       "    <tr>\n",
       "      <th>...</th>\n",
       "      <td>...</td>\n",
       "      <td>...</td>\n",
       "      <td>...</td>\n",
       "      <td>...</td>\n",
       "      <td>...</td>\n",
       "      <td>...</td>\n",
       "      <td>...</td>\n",
       "      <td>...</td>\n",
       "      <td>...</td>\n",
       "      <td>...</td>\n",
       "      <td>...</td>\n",
       "      <td>...</td>\n",
       "    </tr>\n",
       "    <tr>\n",
       "      <th>74</th>\n",
       "      <td>SCG MacGill (AUS)</td>\n",
       "      <td>1998-2008</td>\n",
       "      <td>44</td>\n",
       "      <td>85</td>\n",
       "      <td>11237</td>\n",
       "      <td>6038</td>\n",
       "      <td>208</td>\n",
       "      <td>29.02</td>\n",
       "      <td>3.22</td>\n",
       "      <td>54.0</td>\n",
       "      <td>12</td>\n",
       "      <td>2</td>\n",
       "    </tr>\n",
       "    <tr>\n",
       "      <th>75</th>\n",
       "      <td>Saqlain Mushtaq (PAK)</td>\n",
       "      <td>1995-2004</td>\n",
       "      <td>49</td>\n",
       "      <td>86</td>\n",
       "      <td>14070</td>\n",
       "      <td>6206</td>\n",
       "      <td>208</td>\n",
       "      <td>29.83</td>\n",
       "      <td>2.64</td>\n",
       "      <td>67.6</td>\n",
       "      <td>13</td>\n",
       "      <td>3</td>\n",
       "    </tr>\n",
       "    <tr>\n",
       "      <th>76</th>\n",
       "      <td>AME Roberts (WI)</td>\n",
       "      <td>1974-1983</td>\n",
       "      <td>47</td>\n",
       "      <td>90</td>\n",
       "      <td>11135</td>\n",
       "      <td>5174</td>\n",
       "      <td>202</td>\n",
       "      <td>25.61</td>\n",
       "      <td>2.78</td>\n",
       "      <td>55.1</td>\n",
       "      <td>11</td>\n",
       "      <td>2</td>\n",
       "    </tr>\n",
       "    <tr>\n",
       "      <th>77</th>\n",
       "      <td>JA Snow (ENG)</td>\n",
       "      <td>1965-1976</td>\n",
       "      <td>49</td>\n",
       "      <td>93</td>\n",
       "      <td>12021</td>\n",
       "      <td>5387</td>\n",
       "      <td>202</td>\n",
       "      <td>26.66</td>\n",
       "      <td>2.68</td>\n",
       "      <td>59.5</td>\n",
       "      <td>8</td>\n",
       "      <td>1</td>\n",
       "    </tr>\n",
       "    <tr>\n",
       "      <th>78</th>\n",
       "      <td>JR Thomson (AUS)</td>\n",
       "      <td>1972-1985</td>\n",
       "      <td>51</td>\n",
       "      <td>90</td>\n",
       "      <td>10535</td>\n",
       "      <td>5601</td>\n",
       "      <td>200</td>\n",
       "      <td>28.00</td>\n",
       "      <td>3.18</td>\n",
       "      <td>52.6</td>\n",
       "      <td>8</td>\n",
       "      <td>0</td>\n",
       "    </tr>\n",
       "  </tbody>\n",
       "</table>\n",
       "<p>79 rows × 12 columns</p>\n",
       "</div>"
      ],
      "text/plain": [
       "                 PlayerName Career_Period  Matches  Innings  Balls   Runs  \\\n",
       "0   M Muralitharan (ICC/SL)     1992-2010      133      230  44039  18180   \n",
       "1            SK Warne (AUS)     1992-2007      145      273  40705  17995   \n",
       "2          A Kumble (INDIA)     1990-2008      132      236  40850  18355   \n",
       "3         JM Anderson (ENG)     2003-2021      162      301  34791  16457   \n",
       "4          GD McGrath (AUS)     1993-2007      124      243  29248  12186   \n",
       "..                      ...           ...      ...      ...    ...    ...   \n",
       "74        SCG MacGill (AUS)     1998-2008       44       85  11237   6038   \n",
       "75    Saqlain Mushtaq (PAK)     1995-2004       49       86  14070   6206   \n",
       "76         AME Roberts (WI)     1974-1983       47       90  11135   5174   \n",
       "77            JA Snow (ENG)     1965-1976       49       93  12021   5387   \n",
       "78         JR Thomson (AUS)     1972-1985       51       90  10535   5601   \n",
       "\n",
       "    Wickets  Average  Economy  Strike_Rate  no_of_5_wickets  no_of_10_wickets  \n",
       "0       800    22.72     2.47         55.0               67                22  \n",
       "1       708    25.41     2.65         57.4               37                10  \n",
       "2       619    29.65     2.69         65.9               35                 8  \n",
       "3       617    26.67     2.83         56.3               30                 3  \n",
       "4       563    21.64     2.49         51.9               29                 3  \n",
       "..      ...      ...      ...          ...              ...               ...  \n",
       "74      208    29.02     3.22         54.0               12                 2  \n",
       "75      208    29.83     2.64         67.6               13                 3  \n",
       "76      202    25.61     2.78         55.1               11                 2  \n",
       "77      202    26.66     2.68         59.5                8                 1  \n",
       "78      200    28.00     3.18         52.6                8                 0  \n",
       "\n",
       "[79 rows x 12 columns]"
      ]
     },
     "execution_count": 44,
     "metadata": {},
     "output_type": "execute_result"
    }
   ],
   "source": [
    "data.drop(['Best_Bowl_in_a_match','Best_Bowling_in_an_innings'],axis=1)"
   ]
  },
  {
   "cell_type": "code",
   "execution_count": null,
   "metadata": {},
   "outputs": [],
   "source": []
  },
  {
   "cell_type": "code",
   "execution_count": 45,
   "metadata": {},
   "outputs": [
    {
     "name": "stderr",
     "output_type": "stream",
     "text": [
      "<ipython-input-45-265fa7cdfc17>:1: FutureWarning: The default value of regex will change from True to False in a future version. In addition, single character regular expressions will*not* be treated as literal strings when regex=True.\n",
      "  data['PlayerName']=data['PlayerName'].str.replace(\"(\",\"1\")\n",
      "<ipython-input-45-265fa7cdfc17>:2: FutureWarning: The default value of regex will change from True to False in a future version. In addition, single character regular expressions will*not* be treated as literal strings when regex=True.\n",
      "  data['PlayerName']=data['PlayerName'].str.replace(\")\",\"\")\n"
     ]
    }
   ],
   "source": [
    "data['PlayerName']=data['PlayerName'].str.replace(\"(\",\"1\")\n",
    "data['PlayerName']=data['PlayerName'].str.replace(\")\",\"\")\n",
    "var=data['PlayerName'].str.split(\"1\",expand=True)\n",
    "data=pd.concat([data,var],axis=1)\n",
    "data=data.drop(['PlayerName'],axis=1)\n",
    "data = data.rename(columns={0: 'Player',\n",
    "                        1: 'Country'})\n",
    "new_column_order=['Player', 'Country','Career_Period', 'Matches', 'Innings', 'Balls', 'Runs', 'Wickets',\n",
    "       'Best_Bowling_in_an_innings', 'Best_Bowl_in_a_match', 'Average',\n",
    "       'Economy', 'Strike_Rate', 'no_of_5_wickets', 'no_of_10_wickets']\n",
    "data=data[new_column_order]"
   ]
  },
  {
   "cell_type": "code",
   "execution_count": 46,
   "metadata": {},
   "outputs": [],
   "source": [
    "#counting players played for ICC"
   ]
  },
  {
   "cell_type": "code",
   "execution_count": 47,
   "metadata": {},
   "outputs": [],
   "source": [
    "def icc_check(var):\n",
    "    if \"ICC\" in var:\n",
    "        return True\n",
    "    else:\n",
    "        return False"
   ]
  },
  {
   "cell_type": "code",
   "execution_count": 48,
   "metadata": {},
   "outputs": [],
   "source": [
    "data['Played_for_ICC']=data['Country'].apply(icc_check)"
   ]
  },
  {
   "cell_type": "code",
   "execution_count": 49,
   "metadata": {},
   "outputs": [
    {
     "data": {
      "text/plain": [
       "5"
      ]
     },
     "execution_count": 49,
     "metadata": {},
     "output_type": "execute_result"
    }
   ],
   "source": [
    "data['Played_for_ICC'].value_counts()[1]"
   ]
  },
  {
   "cell_type": "code",
   "execution_count": 50,
   "metadata": {},
   "outputs": [],
   "source": [
    "#no of countries"
   ]
  },
  {
   "cell_type": "code",
   "execution_count": 51,
   "metadata": {},
   "outputs": [],
   "source": [
    "data['Country']=data['Country'].str.replace('ICC/',\"\")\n",
    "data['Country']=data['Country'].str.replace('/ICC',\"\")"
   ]
  },
  {
   "cell_type": "code",
   "execution_count": 52,
   "metadata": {},
   "outputs": [
    {
     "data": {
      "text/plain": [
       "10"
      ]
     },
     "execution_count": 52,
     "metadata": {},
     "output_type": "execute_result"
    }
   ],
   "source": [
    "len(data['Country'].unique())"
   ]
  },
  {
   "cell_type": "code",
   "execution_count": 53,
   "metadata": {},
   "outputs": [],
   "source": [
    "#Name of player with the longest period played"
   ]
  },
  {
   "cell_type": "code",
   "execution_count": 54,
   "metadata": {},
   "outputs": [],
   "source": [
    "var=data['Career_Period'].str.split('-',expand=True)\n",
    "data=pd.concat([data,var],axis=1)\n",
    "data=data.rename(columns={0:'Start',1:'End'})\n",
    "new_column_order=['Player', 'Country', 'Career_Period','Start', 'End', 'Matches', 'Innings', 'Balls',\n",
    "       'Runs', 'Wickets', 'Best_Bowling_in_an_innings', 'Best_Bowl_in_a_match',\n",
    "       'Average', 'Economy', 'Strike_Rate', 'no_of_5_wickets',\n",
    "       'no_of_10_wickets', 'Played_for_ICC']\n",
    "data=data[new_column_order]"
   ]
  },
  {
   "cell_type": "code",
   "execution_count": 58,
   "metadata": {
    "scrolled": true
   },
   "outputs": [
    {
     "data": {
      "text/plain": [
       "array(['2010', '2007', '2008', '2021', '2001', '2019', '1994', '2018',\n",
       "       '1990', '2015', '2002', '2000', '2009', '1992', '1991', '2003',\n",
       "       '2014', '1984', '1976', '1965', '1982', '2013', '1996', '1979',\n",
       "       '1987', '2006', '1964', '1971', '1955', '1974', '1960', '2020',\n",
       "       '2004', '1936', '2005', '1983', '1985'], dtype=object)"
      ]
     },
     "execution_count": 58,
     "metadata": {},
     "output_type": "execute_result"
    }
   ],
   "source": [
    "data['End'].unique()"
   ]
  },
  {
   "cell_type": "code",
   "execution_count": 59,
   "metadata": {},
   "outputs": [
    {
     "data": {
      "text/plain": [
       "0"
      ]
     },
     "execution_count": 59,
     "metadata": {},
     "output_type": "execute_result"
    }
   ],
   "source": [
    "data['End'].isnull().sum()"
   ]
  },
  {
   "cell_type": "code",
   "execution_count": 63,
   "metadata": {},
   "outputs": [],
   "source": [
    "data[\"End\"]=data[\"End\"].astype(int)\n",
    "data[\"Start\"]=data[\"Start\"].astype(int)"
   ]
  },
  {
   "cell_type": "code",
   "execution_count": 65,
   "metadata": {},
   "outputs": [],
   "source": [
    "data['Total_Period']=data['End']-data['Start']"
   ]
  },
  {
   "cell_type": "code",
   "execution_count": 68,
   "metadata": {},
   "outputs": [],
   "source": [
    "new_column_order=['Player', 'Country', 'Career_Period', 'Start', 'End','Total_Period', 'Matches',\n",
    "       'Innings', 'Balls', 'Runs', 'Wickets', 'Best_Bowling_in_an_innings',\n",
    "       'Best_Bowl_in_a_match', 'Average', 'Economy', 'Strike_Rate',\n",
    "       'no_of_5_wickets', 'no_of_10_wickets', 'Played_for_ICC']\n",
    "data=data[new_column_order]"
   ]
  },
  {
   "cell_type": "code",
   "execution_count": 69,
   "metadata": {},
   "outputs": [
    {
     "name": "stdout",
     "output_type": "stream",
     "text": [
      "unique values are:  [18 15 14 17 16 19 13 10 12 11 21  8  9  5  7 20  6]\n",
      "no of null values for Total_Period:  0\n"
     ]
    }
   ],
   "source": [
    "print('unique values are: ',data['Total_Period'].unique())\n",
    "print('no of null values for Total_Period: ',data['Total_Period'].isnull().sum())"
   ]
  },
  {
   "cell_type": "code",
   "execution_count": 82,
   "metadata": {},
   "outputs": [
    {
     "name": "stdout",
     "output_type": "stream",
     "text": [
      "Name of the Player played for the logest time:  21    Imran Khan \n",
      "Name: Player, dtype: object\n"
     ]
    }
   ],
   "source": [
    "print('Name of the Player played for the longest time: ',data[data['Total_Period']==data['Total_Period'].max()]['Player'])"
   ]
  },
  {
   "cell_type": "code",
   "execution_count": null,
   "metadata": {},
   "outputs": [],
   "source": [
    "### Name of the Player played for the shortest time"
   ]
  },
  {
   "cell_type": "code",
   "execution_count": 92,
   "metadata": {},
   "outputs": [
    {
     "name": "stdout",
     "output_type": "stream",
     "text": [
      "Name of the Player played for the shortest time:  44    GP Swann \n",
      "Name: Player, dtype: object\n"
     ]
    }
   ],
   "source": [
    "print('Name of the Player played for the shortest time: ',data[data['Total_Period']==data['Total_Period'].min()]['Player'])"
   ]
  },
  {
   "cell_type": "code",
   "execution_count": null,
   "metadata": {},
   "outputs": [],
   "source": [
    "### number of Australian Bowlers present"
   ]
  },
  {
   "cell_type": "code",
   "execution_count": 118,
   "metadata": {},
   "outputs": [
    {
     "name": "stdout",
     "output_type": "stream",
     "text": [
      "Number of Australian Player present:  18\n"
     ]
    }
   ],
   "source": [
    "print('Number of Australian Player present: ',data['Country'].value_counts()['AUS'])"
   ]
  },
  {
   "cell_type": "code",
   "execution_count": null,
   "metadata": {},
   "outputs": [],
   "source": [
    "### Any Bangladeshi player present"
   ]
  },
  {
   "cell_type": "code",
   "execution_count": 117,
   "metadata": {},
   "outputs": [
    {
     "name": "stdout",
     "output_type": "stream",
     "text": [
      "Number of Bangladeshi Player present:  1\n"
     ]
    }
   ],
   "source": [
    "print('Number of Bangladeshi Player present: ',data['Country'].value_counts()['BDESH'])"
   ]
  },
  {
   "cell_type": "code",
   "execution_count": null,
   "metadata": {},
   "outputs": [],
   "source": [
    "### Name of the player with lowest economy rate"
   ]
  },
  {
   "cell_type": "code",
   "execution_count": 140,
   "metadata": {},
   "outputs": [
    {
     "name": "stdout",
     "output_type": "stream",
     "text": [
      "Name of the Player with Lowest Economy rate:  32    LR Gibbs \n",
      "Name: Player, dtype: object\n"
     ]
    }
   ],
   "source": [
    "print('Name of the Player with Lowest Economy rate: ',data[data['Economy']==data['Economy'].min()].Player)"
   ]
  },
  {
   "cell_type": "code",
   "execution_count": null,
   "metadata": {},
   "outputs": [],
   "source": [
    "### Name of the player with lowest strike rate"
   ]
  },
  {
   "cell_type": "code",
   "execution_count": 142,
   "metadata": {},
   "outputs": [
    {
     "name": "stdout",
     "output_type": "stream",
     "text": [
      "Name of the Player with Lowest strike rate:  71    K Rabada \n",
      "Name: Player, dtype: object\n"
     ]
    }
   ],
   "source": [
    "print('Name of the Player with Lowest strike rate: ',data[data['Strike_Rate']==data['Strike_Rate'].min()].Player)"
   ]
  },
  {
   "cell_type": "code",
   "execution_count": null,
   "metadata": {},
   "outputs": [],
   "source": []
  }
 ],
 "metadata": {
  "kernelspec": {
   "display_name": "Python 3",
   "language": "python",
   "name": "python3"
  },
  "language_info": {
   "codemirror_mode": {
    "name": "ipython",
    "version": 3
   },
   "file_extension": ".py",
   "mimetype": "text/x-python",
   "name": "python",
   "nbconvert_exporter": "python",
   "pygments_lexer": "ipython3",
   "version": "3.8.8"
  }
 },
 "nbformat": 4,
 "nbformat_minor": 4
}
